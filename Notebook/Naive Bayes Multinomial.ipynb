{
 "cells": [
  {
   "cell_type": "code",
   "execution_count": 24,
   "metadata": {},
   "outputs": [],
   "source": [
    "import numpy as np\n",
    "import pandas as pd\n",
    "import json\n",
    "from sklearn import model_selection\n",
    "import string\n",
    "from math import log\n",
    "from copy import deepcopy\n",
    "from nltk.corpus import stopwords\n",
    "from sklearn.metrics import classification_report\n",
    "import seaborn as sns\n",
    "from sklearn.metrics import confusion_matrix\n",
    "import time\n",
    "import matplotlib.pyplot as plt\n",
    "#Initializing Stop words\n",
    "stop_words = set(stopwords.words(\"english\"))"
   ]
  },
  {
   "cell_type": "markdown",
   "metadata": {},
   "source": [
    "### Initializing valid set of Categories"
   ]
  },
  {
   "cell_type": "code",
   "execution_count": 25,
   "metadata": {},
   "outputs": [],
   "source": [
    "#Set of valid categories : \n",
    "#Business, Comedy, Sports, Crime, Religion, Healthy Living, Politics.\n",
    "category_dict={'business':0,'comedy':0,'sports':0,'crime':0,'religion':0,'healthy living':0,'politics':0}"
   ]
  },
  {
   "cell_type": "code",
   "execution_count": 26,
   "metadata": {},
   "outputs": [],
   "source": [
    "#news_category_dataset.json\n",
    "df=pd.read_json('news_category_dataset.json',lines=True)"
   ]
  },
  {
   "cell_type": "code",
   "execution_count": 27,
   "metadata": {},
   "outputs": [
    {
     "data": {
      "text/html": [
       "<div>\n",
       "<style scoped>\n",
       "    .dataframe tbody tr th:only-of-type {\n",
       "        vertical-align: middle;\n",
       "    }\n",
       "\n",
       "    .dataframe tbody tr th {\n",
       "        vertical-align: top;\n",
       "    }\n",
       "\n",
       "    .dataframe thead th {\n",
       "        text-align: right;\n",
       "    }\n",
       "</style>\n",
       "<table border=\"1\" class=\"dataframe\">\n",
       "  <thead>\n",
       "    <tr style=\"text-align: right;\">\n",
       "      <th></th>\n",
       "      <th>short_description</th>\n",
       "      <th>headline</th>\n",
       "      <th>date</th>\n",
       "      <th>link</th>\n",
       "      <th>authors</th>\n",
       "      <th>category</th>\n",
       "    </tr>\n",
       "  </thead>\n",
       "  <tbody>\n",
       "    <tr>\n",
       "      <th>0</th>\n",
       "      <td>She left her husband. He killed their children...</td>\n",
       "      <td>There Were 2 Mass Shootings In Texas Last Week...</td>\n",
       "      <td>2018-05-26</td>\n",
       "      <td>https://www.huffingtonpost.com/entry/texas-ama...</td>\n",
       "      <td>Melissa Jeltsen</td>\n",
       "      <td>CRIME</td>\n",
       "    </tr>\n",
       "    <tr>\n",
       "      <th>1</th>\n",
       "      <td>Of course it has a song.</td>\n",
       "      <td>Will Smith Joins Diplo And Nicky Jam For The 2...</td>\n",
       "      <td>2018-05-26</td>\n",
       "      <td>https://www.huffingtonpost.com/entry/will-smit...</td>\n",
       "      <td>Andy McDonald</td>\n",
       "      <td>ENTERTAINMENT</td>\n",
       "    </tr>\n",
       "    <tr>\n",
       "      <th>2</th>\n",
       "      <td>The actor and his longtime girlfriend Anna Ebe...</td>\n",
       "      <td>Hugh Grant Marries For The First Time At Age 57</td>\n",
       "      <td>2018-05-26</td>\n",
       "      <td>https://www.huffingtonpost.com/entry/hugh-gran...</td>\n",
       "      <td>Ron Dicker</td>\n",
       "      <td>ENTERTAINMENT</td>\n",
       "    </tr>\n",
       "    <tr>\n",
       "      <th>3</th>\n",
       "      <td>The actor gives Dems an ass-kicking for not fi...</td>\n",
       "      <td>Jim Carrey Blasts 'Castrato' Adam Schiff And D...</td>\n",
       "      <td>2018-05-26</td>\n",
       "      <td>https://www.huffingtonpost.com/entry/jim-carre...</td>\n",
       "      <td>Ron Dicker</td>\n",
       "      <td>ENTERTAINMENT</td>\n",
       "    </tr>\n",
       "    <tr>\n",
       "      <th>4</th>\n",
       "      <td>The \"Dietland\" actress said using the bags is ...</td>\n",
       "      <td>Julianna Margulies Uses Donald Trump Poop Bags...</td>\n",
       "      <td>2018-05-26</td>\n",
       "      <td>https://www.huffingtonpost.com/entry/julianna-...</td>\n",
       "      <td>Ron Dicker</td>\n",
       "      <td>ENTERTAINMENT</td>\n",
       "    </tr>\n",
       "  </tbody>\n",
       "</table>\n",
       "</div>"
      ],
      "text/plain": [
       "                                   short_description  \\\n",
       "0  She left her husband. He killed their children...   \n",
       "1                           Of course it has a song.   \n",
       "2  The actor and his longtime girlfriend Anna Ebe...   \n",
       "3  The actor gives Dems an ass-kicking for not fi...   \n",
       "4  The \"Dietland\" actress said using the bags is ...   \n",
       "\n",
       "                                            headline       date  \\\n",
       "0  There Were 2 Mass Shootings In Texas Last Week... 2018-05-26   \n",
       "1  Will Smith Joins Diplo And Nicky Jam For The 2... 2018-05-26   \n",
       "2    Hugh Grant Marries For The First Time At Age 57 2018-05-26   \n",
       "3  Jim Carrey Blasts 'Castrato' Adam Schiff And D... 2018-05-26   \n",
       "4  Julianna Margulies Uses Donald Trump Poop Bags... 2018-05-26   \n",
       "\n",
       "                                                link          authors  \\\n",
       "0  https://www.huffingtonpost.com/entry/texas-ama...  Melissa Jeltsen   \n",
       "1  https://www.huffingtonpost.com/entry/will-smit...    Andy McDonald   \n",
       "2  https://www.huffingtonpost.com/entry/hugh-gran...       Ron Dicker   \n",
       "3  https://www.huffingtonpost.com/entry/jim-carre...       Ron Dicker   \n",
       "4  https://www.huffingtonpost.com/entry/julianna-...       Ron Dicker   \n",
       "\n",
       "        category  \n",
       "0          CRIME  \n",
       "1  ENTERTAINMENT  \n",
       "2  ENTERTAINMENT  \n",
       "3  ENTERTAINMENT  \n",
       "4  ENTERTAINMENT  "
      ]
     },
     "execution_count": 27,
     "metadata": {},
     "output_type": "execute_result"
    }
   ],
   "source": [
    "df.head()"
   ]
  },
  {
   "cell_type": "code",
   "execution_count": 28,
   "metadata": {},
   "outputs": [
    {
     "data": {
      "text/html": [
       "<div>\n",
       "<style scoped>\n",
       "    .dataframe tbody tr th:only-of-type {\n",
       "        vertical-align: middle;\n",
       "    }\n",
       "\n",
       "    .dataframe tbody tr th {\n",
       "        vertical-align: top;\n",
       "    }\n",
       "\n",
       "    .dataframe thead th {\n",
       "        text-align: right;\n",
       "    }\n",
       "</style>\n",
       "<table border=\"1\" class=\"dataframe\">\n",
       "  <thead>\n",
       "    <tr style=\"text-align: right;\">\n",
       "      <th></th>\n",
       "      <th>headline</th>\n",
       "      <th>category</th>\n",
       "    </tr>\n",
       "  </thead>\n",
       "  <tbody>\n",
       "    <tr>\n",
       "      <th>0</th>\n",
       "      <td>There Were 2 Mass Shootings In Texas Last Week...</td>\n",
       "      <td>CRIME</td>\n",
       "    </tr>\n",
       "    <tr>\n",
       "      <th>1</th>\n",
       "      <td>Will Smith Joins Diplo And Nicky Jam For The 2...</td>\n",
       "      <td>ENTERTAINMENT</td>\n",
       "    </tr>\n",
       "    <tr>\n",
       "      <th>2</th>\n",
       "      <td>Hugh Grant Marries For The First Time At Age 57</td>\n",
       "      <td>ENTERTAINMENT</td>\n",
       "    </tr>\n",
       "    <tr>\n",
       "      <th>3</th>\n",
       "      <td>Jim Carrey Blasts 'Castrato' Adam Schiff And D...</td>\n",
       "      <td>ENTERTAINMENT</td>\n",
       "    </tr>\n",
       "    <tr>\n",
       "      <th>4</th>\n",
       "      <td>Julianna Margulies Uses Donald Trump Poop Bags...</td>\n",
       "      <td>ENTERTAINMENT</td>\n",
       "    </tr>\n",
       "  </tbody>\n",
       "</table>\n",
       "</div>"
      ],
      "text/plain": [
       "                                            headline       category\n",
       "0  There Were 2 Mass Shootings In Texas Last Week...          CRIME\n",
       "1  Will Smith Joins Diplo And Nicky Jam For The 2...  ENTERTAINMENT\n",
       "2    Hugh Grant Marries For The First Time At Age 57  ENTERTAINMENT\n",
       "3  Jim Carrey Blasts 'Castrato' Adam Schiff And D...  ENTERTAINMENT\n",
       "4  Julianna Margulies Uses Donald Trump Poop Bags...  ENTERTAINMENT"
      ]
     },
     "execution_count": 28,
     "metadata": {},
     "output_type": "execute_result"
    }
   ],
   "source": [
    "df=df.loc[:, ['headline', 'category']]\n",
    "df.head()"
   ]
  },
  {
   "cell_type": "code",
   "execution_count": 29,
   "metadata": {},
   "outputs": [
    {
     "data": {
      "text/html": [
       "<div>\n",
       "<style scoped>\n",
       "    .dataframe tbody tr th:only-of-type {\n",
       "        vertical-align: middle;\n",
       "    }\n",
       "\n",
       "    .dataframe tbody tr th {\n",
       "        vertical-align: top;\n",
       "    }\n",
       "\n",
       "    .dataframe thead th {\n",
       "        text-align: right;\n",
       "    }\n",
       "</style>\n",
       "<table border=\"1\" class=\"dataframe\">\n",
       "  <thead>\n",
       "    <tr style=\"text-align: right;\">\n",
       "      <th></th>\n",
       "      <th>headline</th>\n",
       "      <th>category</th>\n",
       "    </tr>\n",
       "  </thead>\n",
       "  <tbody>\n",
       "    <tr>\n",
       "      <th>0</th>\n",
       "      <td>There Were 2 Mass Shootings In Texas Last Week...</td>\n",
       "      <td>CRIME</td>\n",
       "    </tr>\n",
       "    <tr>\n",
       "      <th>13</th>\n",
       "      <td>Trump's Crackdown On Immigrant Parents Puts Mo...</td>\n",
       "      <td>POLITICS</td>\n",
       "    </tr>\n",
       "    <tr>\n",
       "      <th>14</th>\n",
       "      <td>'Trump's Son Should Be Concerned': FBI Obtaine...</td>\n",
       "      <td>POLITICS</td>\n",
       "    </tr>\n",
       "    <tr>\n",
       "      <th>15</th>\n",
       "      <td>Edward Snowden: There's No One Trump Loves Mor...</td>\n",
       "      <td>POLITICS</td>\n",
       "    </tr>\n",
       "    <tr>\n",
       "      <th>16</th>\n",
       "      <td>Booyah: Obama Photographer Hilariously Trolls ...</td>\n",
       "      <td>POLITICS</td>\n",
       "    </tr>\n",
       "  </tbody>\n",
       "</table>\n",
       "</div>"
      ],
      "text/plain": [
       "                                             headline  category\n",
       "0   There Were 2 Mass Shootings In Texas Last Week...     CRIME\n",
       "13  Trump's Crackdown On Immigrant Parents Puts Mo...  POLITICS\n",
       "14  'Trump's Son Should Be Concerned': FBI Obtaine...  POLITICS\n",
       "15  Edward Snowden: There's No One Trump Loves Mor...  POLITICS\n",
       "16  Booyah: Obama Photographer Hilariously Trolls ...  POLITICS"
      ]
     },
     "execution_count": 29,
     "metadata": {},
     "output_type": "execute_result"
    }
   ],
   "source": [
    "#Extracting data in the valid set of categories\n",
    "df=df[df['category'].str.lower().isin(category_dict.keys())]\n",
    "df.head()"
   ]
  },
  {
   "cell_type": "code",
   "execution_count": 30,
   "metadata": {},
   "outputs": [
    {
     "data": {
      "text/plain": [
       "(57274, 2)"
      ]
     },
     "execution_count": 30,
     "metadata": {},
     "output_type": "execute_result"
    }
   ],
   "source": [
    "df.shape"
   ]
  },
  {
   "cell_type": "markdown",
   "metadata": {},
   "source": [
    "### Test - Train Split"
   ]
  },
  {
   "cell_type": "code",
   "execution_count": 31,
   "metadata": {},
   "outputs": [
    {
     "name": "stdout",
     "output_type": "stream",
     "text": [
      "48682\n"
     ]
    }
   ],
   "source": [
    "#Independent Variable\n",
    "X=df['headline'].to_numpy()\n",
    "#Dependent Variable\n",
    "Y=df['category'].to_numpy()\n",
    "X_train, X_test, Y_train, Y_test = model_selection.train_test_split(X, Y, test_size=0.15, random_state=0)\n",
    "print(X_train.shape[0])"
   ]
  },
  {
   "cell_type": "code",
   "execution_count": 32,
   "metadata": {},
   "outputs": [
    {
     "name": "stdout",
     "output_type": "stream",
     "text": [
      "8592\n"
     ]
    }
   ],
   "source": [
    "print(Y_test.shape[0])"
   ]
  },
  {
   "cell_type": "markdown",
   "metadata": {},
   "source": [
    "### Multinomial Naive Bayes Classifier"
   ]
  },
  {
   "cell_type": "code",
   "execution_count": 33,
   "metadata": {},
   "outputs": [],
   "source": [
    "class NB_Multinomial:\n",
    "    \n",
    "    def __init__(self):\n",
    "        #Stores the Vocabulary and class wise doc count for each word\n",
    "        self.word_class_dict={}\n",
    "        self.prior=deepcopy(category_dict)\n",
    "        self.cond_probablity={}\n",
    "        #Calculates number of words per class\n",
    "        self.class_words=deepcopy(category_dict)\n",
    "        \n",
    "    def preprocess(self,X,Y):\n",
    "        global category_dict\n",
    "        word_count={}\n",
    "        #Creating the Word Class Dictionary\n",
    "        for i in range(len(X)):\n",
    "            _category=Y[i].lower()\n",
    "            #Removing Punctuation and Converting to lower case\n",
    "            temp_str=X[i].translate(str.maketrans('', '', string.punctuation)).lower()\n",
    "            word_tokens = temp_str.split(' ')\n",
    "            #Removing stopwords and adding to vocabulary\n",
    "            for w in word_tokens:\n",
    "                if w not in stop_words and len(w)>1:\n",
    "                    #Counting Word Frequency\n",
    "                    if w not in word_count.keys():\n",
    "                        word_count[w]=0\n",
    "                    else:\n",
    "                        word_count[w]+=1\n",
    "                        \n",
    "                    word_in_dict=w in self.word_class_dict.keys()\n",
    "                    if not word_in_dict:\n",
    "                        self.word_class_dict[w]=deepcopy(category_dict)\n",
    "                        self.word_class_dict[w][_category]+=1\n",
    "                        self.class_words[_category]+=1\n",
    "                    elif word_in_dict:\n",
    "                        self.word_class_dict[w][_category]+=1\n",
    "                        self.class_words[_category]+=1\n",
    "        \n",
    "        #Building Vocabulary\n",
    "        for w in word_count.keys():\n",
    "            if word_count[w]<2:\n",
    "                #Deleting word not elligible to be present in dictionary\n",
    "                del self.word_class_dict[w]\n",
    "        \n",
    "    def convert_to_lower(self,Y):\n",
    "        total_len=len(Y)\n",
    "        target=[]\n",
    "        for i in range(total_len):\n",
    "            target.append(Y[i].lower())\n",
    "        return target\n",
    "    \n",
    "    def multinomial_probability(self,X,Y):\n",
    "        global category_dict\n",
    "        #Calculating Prior Probablity Values\n",
    "        total_docs=len(Y)\n",
    "        #Converting Y to lower case\n",
    "        target=self.convert_to_lower(Y)\n",
    "        docs_in_class=deepcopy(category_dict)\n",
    "        \n",
    "        #No. of headlines(documents) in each category\n",
    "        for cat in target:\n",
    "            docs_in_class[cat]+=1\n",
    "        \n",
    "        total_vocab_size=len(self.word_class_dict.keys())\n",
    "        #Calculating Prior probability for each category\n",
    "        for category in self.prior.keys():\n",
    "            self.prior[category]=docs_in_class[category]/total_docs\n",
    "        #Calculating Conditional Probablity for each category\n",
    "        for w in self.word_class_dict.keys():\n",
    "            self.cond_probablity[w]=deepcopy(category_dict)\n",
    "            for category in self.cond_probablity[w].keys():\n",
    "                self.cond_probablity[w][category]=(self.word_class_dict[w][category]+1)/(self.class_words[category]+total_vocab_size)\n",
    "        \n",
    "    \n",
    "    def fit_transform(self,X,Y):\n",
    "        self.preprocess(X,Y)\n",
    "        self.multinomial_probability(X,Y)\n",
    "    \n",
    "    def extract_terms(self,D):\n",
    "        vocab=[]\n",
    "        #Removing punctuation and converting to lower case\n",
    "        temp_str=D.translate(str.maketrans('', '', string.punctuation)).lower()\n",
    "        word_tokens = temp_str.split(' ')\n",
    "        #Removing Stop Words\n",
    "        for w in word_tokens:\n",
    "            if w not in stop_words and len(w)>1:\n",
    "                vocab.append(w)\n",
    "        \n",
    "        return vocab\n",
    "    \n",
    "    def predict(self,X):\n",
    "        global category_dict\n",
    "        Y_pred=[]\n",
    "        total_vocab_size=len(self.word_class_dict.keys())\n",
    "        for i in range(len(X)):\n",
    "            class_score=deepcopy(category_dict)\n",
    "            #Extracting vocabulary for every (headline)document\n",
    "            doc_vocab=self.extract_terms(X[i])\n",
    "            for category in class_score.keys():\n",
    "                class_score[category]=log(self.prior[category])\n",
    "                for w in doc_vocab:\n",
    "                    if w in self.word_class_dict.keys():\n",
    "                        class_score[category]+=log(self.cond_probablity[w][category])\n",
    "                    else:\n",
    "                        #Conditional Probablity for a word not present in trained vocabulary\n",
    "                        class_score[category]+=log(1/(self.class_words[category]+total_vocab_size))\n",
    "            #Finding the category having maximum score\n",
    "            predicted_category=max(class_score, key=class_score.get)\n",
    "            Y_pred.append(predicted_category.upper())\n",
    "        \n",
    "        return Y_pred\n",
    "    \n",
    "    def accuracy_score(self,Y_pred,Y_test):\n",
    "        target_pred=Y_pred\n",
    "        target_test=Y_test\n",
    "        count=0\n",
    "        for i in range(len(target_pred)):\n",
    "            if target_pred[i]==target_test[i]:\n",
    "                count+=1\n",
    "        acc_score=count/len(target_pred)\n",
    "        print(\"Accuracy of the model is %s%%\"%(round(acc_score*100,2)))\n",
    "        "
   ]
  },
  {
   "cell_type": "markdown",
   "metadata": {},
   "source": [
    "### Creating Classifier Model and Training "
   ]
  },
  {
   "cell_type": "code",
   "execution_count": 34,
   "metadata": {},
   "outputs": [],
   "source": [
    "model=NB_Multinomial()\n",
    "start_time=time.time()\n",
    "model.fit_transform(X_train,Y_train)\n",
    "time_to_train=time.time()-start_time"
   ]
  },
  {
   "cell_type": "markdown",
   "metadata": {},
   "source": [
    "### Model Training and Preprocessing Time"
   ]
  },
  {
   "cell_type": "code",
   "execution_count": 35,
   "metadata": {},
   "outputs": [
    {
     "name": "stdout",
     "output_type": "stream",
     "text": [
      "Time taken to train and preprocess model is : 1.54 seconds \n"
     ]
    }
   ],
   "source": [
    "print(\"Time taken to train and preprocess model is : %s seconds \"%(round(time_to_train,2)))"
   ]
  },
  {
   "cell_type": "code",
   "execution_count": 36,
   "metadata": {},
   "outputs": [],
   "source": [
    "Y_pred=model.predict(X_test)"
   ]
  },
  {
   "cell_type": "markdown",
   "metadata": {},
   "source": [
    "### Overall Test Accuracy of Model "
   ]
  },
  {
   "cell_type": "code",
   "execution_count": 37,
   "metadata": {},
   "outputs": [
    {
     "name": "stdout",
     "output_type": "stream",
     "text": [
      "Accuracy of the model is 78.55%\n"
     ]
    }
   ],
   "source": [
    "model.accuracy_score(Y_pred,Y_test)"
   ]
  },
  {
   "cell_type": "code",
   "execution_count": 38,
   "metadata": {},
   "outputs": [
    {
     "name": "stdout",
     "output_type": "stream",
     "text": [
      "                precision    recall  f1-score   support\n",
      "\n",
      "      BUSINESS       0.56      0.62      0.59       570\n",
      "        COMEDY       0.64      0.59      0.61       623\n",
      "         CRIME       0.85      0.59      0.70       617\n",
      "HEALTHY LIVING       0.78      0.68      0.73      1204\n",
      "      POLITICS       0.84      0.90      0.87      4525\n",
      "      RELIGION       0.62      0.58      0.60       434\n",
      "        SPORTS       0.79      0.81      0.80       619\n",
      "\n",
      "      accuracy                           0.79      8592\n",
      "     macro avg       0.73      0.68      0.70      8592\n",
      "  weighted avg       0.79      0.79      0.78      8592\n",
      "\n"
     ]
    }
   ],
   "source": [
    "print(classification_report(Y_pred, Y_test))"
   ]
  },
  {
   "cell_type": "markdown",
   "metadata": {},
   "source": [
    "### Confusion Matrix"
   ]
  },
  {
   "cell_type": "code",
   "execution_count": 39,
   "metadata": {},
   "outputs": [
    {
     "name": "stdout",
     "output_type": "stream",
     "text": [
      "[[ 355    8    9   14   14  125  109]\n",
      " [  10  366   22   17   23   56   81]\n",
      " [  10   20  499   30    7   23   39]\n",
      " [   2    5    9  364    7    9   30]\n",
      " [  10   15   10   18  253   35   64]\n",
      " [  38   23   10   19   25  820  110]\n",
      " [ 145  186   60  155  105  136 4092]]\n"
     ]
    }
   ],
   "source": [
    "category_list=list(category_dict.keys())\n",
    "category_list=[x.upper() for x in category_list]\n",
    "cm = confusion_matrix(Y_test, Y_pred,labels=category_list)\n",
    "print(cm)"
   ]
  },
  {
   "cell_type": "markdown",
   "metadata": {},
   "source": [
    "### Class Wise Accuracies"
   ]
  },
  {
   "cell_type": "code",
   "execution_count": 40,
   "metadata": {},
   "outputs": [
    {
     "name": "stdout",
     "output_type": "stream",
     "text": [
      "------------Class Wise Accuracies------------\n",
      "\n",
      "BUSINESS Accuracy = 55.99% \n",
      "COMEDY Accuracy = 63.65% \n",
      "SPORTS Accuracy = 79.46% \n",
      "CRIME Accuracy = 85.45% \n",
      "RELIGION Accuracy = 62.47% \n",
      "HEALTHY LIVING Accuracy = 78.47% \n",
      "POLITICS Accuracy = 83.87% \n"
     ]
    }
   ],
   "source": [
    "#Normalizing the diagonal entries\n",
    "cm_norm=cm.astype('float') / cm.sum(axis=1)[:, np.newaxis]\n",
    "class_accuracy=cm_norm.diagonal()*100\n",
    "print(\"------------Class Wise Accuracies------------\\n\")\n",
    "for i in range(len(category_list)):\n",
    "    print(category_list[i]+\" Accuracy = %s%% \"%(round(class_accuracy[i],2)))"
   ]
  },
  {
   "cell_type": "code",
   "execution_count": 41,
   "metadata": {},
   "outputs": [
    {
     "data": {
      "image/png": "[encoded data removed]",
      "text/plain": [
       "<Figure size 1008x360 with 1 Axes>"
      ]
     },
     "metadata": {},
     "output_type": "display_data"
    }
   ],
   "source": [
    "fig = plt.figure(figsize = (14, 5)) \n",
    "# creating the bar plot \n",
    "class_accuracy=[round(x,2) for x in class_accuracy]\n",
    "plt.bar(category_list, class_accuracy, color ='navy',  \n",
    "        width = 0.4) \n",
    "  \n",
    "plt.xlabel(\"Categories\") \n",
    "plt.ylabel(\"Accuracy Percentage\") \n",
    "plt.title(\"Accuracy of different Categories\") \n",
    "plt.show() "
   ]
  },
  {
   "cell_type": "markdown",
   "metadata": {},
   "source": [
    "### Confusion Matrix with Category labels"
   ]
  },
  {
   "cell_type": "code",
   "execution_count": 42,
   "metadata": {},
   "outputs": [
    {
     "data": {
      "text/plain": [
       "<AxesSubplot:xlabel='Predicted', ylabel='Actual'>"
      ]
     },
     "execution_count": 42,
     "metadata": {},
     "output_type": "execute_result"
    },
    {
     "data": {
      "image/png": "[encoded data removed]",
      "text/plain": [
       "<Figure size 720x504 with 2 Axes>"
      ]
     },
     "metadata": {},
     "output_type": "display_data"
    }
   ],
   "source": [
    "df_cm= pd.DataFrame(\n",
    "    cm, \n",
    "    index=category_list, \n",
    "    columns=category_list\n",
    ")\n",
    "df_cm.index.name = 'Actual'\n",
    "df_cm.columns.name = 'Predicted'\n",
    "plt.figure(figsize = (10,7))\n",
    "sns.set(font_scale=1.4)#for label size\n",
    "sns.heatmap(df_cm, cmap=\"Blues\", annot=True,fmt='d')"
   ]
  }
 ],
 "metadata": {
  "kernelspec": {
   "display_name": "Python 3",
   "language": "python",
   "name": "python3"
  },
  "language_info": {
   "codemirror_mode": {
    "name": "ipython",
    "version": 3
   },
   "file_extension": ".py",
   "mimetype": "text/x-python",
   "name": "python",
   "nbconvert_exporter": "python",
   "pygments_lexer": "ipython3",
   "version": "3.8.5"
  }
 },
 "nbformat": 4,
 "nbformat_minor": 4
}
